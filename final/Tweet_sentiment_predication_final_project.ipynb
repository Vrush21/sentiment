{
 "cells": [
  {
   "cell_type": "code",
   "execution_count": 22,
   "metadata": {
    "colab": {
     "base_uri": "https://localhost:8080/"
    },
    "id": "sySRY2XvxWl3",
    "outputId": "dd2dffa3-b1cb-446f-c02b-34553f204f40"
   },
   "outputs": [],
   "source": [
    "import pandas as pd\n",
    "import string\n",
    "import re\n",
    "import nltk\n",
    "from nltk.sentiment.vader import SentimentIntensityAnalyzer\n",
    "import numpy as np\n",
    "from sklearn import svm\n",
    "from sklearn.ensemble import RandomForestClassifier\n",
    "from sklearn.model_selection import train_test_split\n",
    "from sklearn.tree import DecisionTreeClassifier\n",
    "from sklearn.neighbors import KNeighborsClassifier\n",
    "from sklearn.naive_bayes import GaussianNB\n",
    "from lazypredict.Supervised import LazyClassifier\n",
    "import preprocessor as p\n",
    "from sklearn.metrics import accuracy_score\n",
    "import matplotlib.pyplot as plt\n",
    "import seaborn as sns\n",
    "import spacy \n",
    "\n",
    "#nlp = spacy.load('en_core_web_sm')\n",
    "stopword = nltk.corpus.stopwords.words('english')\n",
    "ps = nltk.PorterStemmer()\n",
    "%matplotlib inline"
   ]
  },
  {
   "cell_type": "code",
   "execution_count": 23,
   "metadata": {
    "id": "Daz_4drw24vm"
   },
   "outputs": [],
   "source": [
    "df = pd.read_csv('sheet1.csv')"
   ]
  },
  {
   "cell_type": "code",
   "execution_count": 24,
   "metadata": {
    "id": "C9KcXgX-xWmG"
   },
   "outputs": [],
   "source": [
    "clean_data =df.iloc[:,0].apply(lambda x: p.clean(x))"
   ]
  },
  {
   "cell_type": "code",
   "execution_count": 25,
   "metadata": {
    "id": "tzDy2NrPxWmG"
   },
   "outputs": [],
   "source": [
    "# data clean methods\n",
    "stopword=stopword+['brt','xfxfxcxe','xfxfxxvaccin']\n",
    "\n",
    "def clean_text(text):\n",
    "    text_lc = \"\".join([word.lower() for word in text if word not in string.punctuation]) # remove puntuation\n",
    "    text_rc = re.sub('[0-9]+', '', text_lc)\n",
    "    #after tweepy preprocessing the colon symbol left remain after    \n",
    "    tweet = re.sub(r':', '', text_rc)\n",
    "    tweet = re.sub(r'‚Ä¶', '', tweet)\n",
    "    #replace consecutive non-ASCII characters with a space\n",
    "    tweet = re.sub(r'[^\\x00-\\x7F]+',' ', tweet)\n",
    "    #filter using NLTK library append it to a string\n",
    "    tokens = re.split('\\W+', tweet)    # tokenization\n",
    "    text = [word for word in tokens if word not in stopword]  # remove stopwords\n",
    "    return text"
   ]
  },
  {
   "cell_type": "code",
   "execution_count": 26,
   "metadata": {
    "id": "ROtjOB2ExWmH"
   },
   "outputs": [],
   "source": [
    "df['clean_tweets'] = clean_data.apply(lambda x:clean_text(x))\n",
    "df['clean_tweets']= df['clean_tweets'].apply(lambda x: ' '.join(x))"
   ]
  },
  {
   "cell_type": "code",
   "execution_count": 27,
   "metadata": {
    "colab": {
     "base_uri": "https://localhost:8080/",
     "height": 572
    },
    "id": "EGh9AH73xWmI",
    "outputId": "965e1073-22ad-4b78-f4da-d78aa36362fd"
   },
   "outputs": [
    {
     "data": {
      "text/html": [
       "<div>\n",
       "<style scoped>\n",
       "    .dataframe tbody tr th:only-of-type {\n",
       "        vertical-align: middle;\n",
       "    }\n",
       "\n",
       "    .dataframe tbody tr th {\n",
       "        vertical-align: top;\n",
       "    }\n",
       "\n",
       "    .dataframe thead th {\n",
       "        text-align: right;\n",
       "    }\n",
       "</style>\n",
       "<table border=\"1\" class=\"dataframe\">\n",
       "  <thead>\n",
       "    <tr style=\"text-align: right;\">\n",
       "      <th></th>\n",
       "      <th>0</th>\n",
       "      <th>clean_tweets</th>\n",
       "    </tr>\n",
       "  </thead>\n",
       "  <tbody>\n",
       "    <tr>\n",
       "      <th>0</th>\n",
       "      <td>Beed: kovida Center bombabomba water; Positive...</td>\n",
       "      <td>beed kovida center bombabomba water positive c...</td>\n",
       "    </tr>\n",
       "    <tr>\n",
       "      <th>1</th>\n",
       "      <td>VIDEO: Gulabrao Patil | Koronakalata not right...</td>\n",
       "      <td>video gulabrao patil koronakalata right khadse...</td>\n",
       "    </tr>\n",
       "    <tr>\n",
       "      <th>2</th>\n",
       "      <td>Corona: Corona, but the new strain of origin a...</td>\n",
       "      <td>corona corona new strain origin amaravatituna ...</td>\n",
       "    </tr>\n",
       "    <tr>\n",
       "      <th>3</th>\n",
       "      <td>Corona Vaccine Update: US expert said, kovida ...</td>\n",
       "      <td>corona vaccine update us expert said kovida co...</td>\n",
       "    </tr>\n",
       "    <tr>\n",
       "      <th>4</th>\n",
       "      <td>Hundreds of new Parliament's work in strict lo...</td>\n",
       "      <td>hundreds new parliaments work strict lockdown ...</td>\n",
       "    </tr>\n",
       "    <tr>\n",
       "      <th>...</th>\n",
       "      <td>...</td>\n",
       "      <td>...</td>\n",
       "    </tr>\n",
       "    <tr>\n",
       "      <th>19751</th>\n",
       "      <td>BVM BYM BBM BVCP RACS IRSA\\n\\nLatur joint sess...</td>\n",
       "      <td>bvm bym bbm bvcp racs irsalatur joint session ...</td>\n",
       "    </tr>\n",
       "    <tr>\n",
       "      <th>19752</th>\n",
       "      <td>Every day the court by the Akhil Bharatiya Vid...</td>\n",
       "      <td>every day court akhil bharatiya vidyarthi pari...</td>\n",
       "    </tr>\n",
       "    <tr>\n",
       "      <th>19753</th>\n",
       "      <td>BVM BYM BBM BVCP RACS IRSA\\n\\nPusad section 20...</td>\n",
       "      <td>bvm bym bbm bvcp racs irsapusad section sessio...</td>\n",
       "    </tr>\n",
       "    <tr>\n",
       "      <th>19754</th>\n",
       "      <td>All that All India Bharatiya Vidyarthi Parisha...</td>\n",
       "      <td>india bharatiya vidyarthi parishad format insp...</td>\n",
       "    </tr>\n",
       "    <tr>\n",
       "      <th>19755</th>\n",
       "      <td>BVM BYM BBM BVCP RACS IRSA\\n\\nPusad section 20...</td>\n",
       "      <td>bvm bym bbm bvcp racs irsapusad section sessio...</td>\n",
       "    </tr>\n",
       "  </tbody>\n",
       "</table>\n",
       "<p>19756 rows × 2 columns</p>\n",
       "</div>"
      ],
      "text/plain": [
       "                                                       0  \\\n",
       "0      Beed: kovida Center bombabomba water; Positive...   \n",
       "1      VIDEO: Gulabrao Patil | Koronakalata not right...   \n",
       "2      Corona: Corona, but the new strain of origin a...   \n",
       "3      Corona Vaccine Update: US expert said, kovida ...   \n",
       "4      Hundreds of new Parliament's work in strict lo...   \n",
       "...                                                  ...   \n",
       "19751  BVM BYM BBM BVCP RACS IRSA\\n\\nLatur joint sess...   \n",
       "19752  Every day the court by the Akhil Bharatiya Vid...   \n",
       "19753  BVM BYM BBM BVCP RACS IRSA\\n\\nPusad section 20...   \n",
       "19754  All that All India Bharatiya Vidyarthi Parisha...   \n",
       "19755  BVM BYM BBM BVCP RACS IRSA\\n\\nPusad section 20...   \n",
       "\n",
       "                                            clean_tweets  \n",
       "0      beed kovida center bombabomba water positive c...  \n",
       "1      video gulabrao patil koronakalata right khadse...  \n",
       "2      corona corona new strain origin amaravatituna ...  \n",
       "3      corona vaccine update us expert said kovida co...  \n",
       "4      hundreds new parliaments work strict lockdown ...  \n",
       "...                                                  ...  \n",
       "19751  bvm bym bbm bvcp racs irsalatur joint session ...  \n",
       "19752  every day court akhil bharatiya vidyarthi pari...  \n",
       "19753  bvm bym bbm bvcp racs irsapusad section sessio...  \n",
       "19754  india bharatiya vidyarthi parishad format insp...  \n",
       "19755  bvm bym bbm bvcp racs irsapusad section sessio...  \n",
       "\n",
       "[19756 rows x 2 columns]"
      ]
     },
     "execution_count": 27,
     "metadata": {},
     "output_type": "execute_result"
    }
   ],
   "source": [
    "df"
   ]
  },
  {
   "cell_type": "code",
   "execution_count": 28,
   "metadata": {
    "colab": {
     "base_uri": "https://localhost:8080/"
    },
    "id": "2_DRrJpHxWmK",
    "outputId": "32044e72-b809-4b49-b2ca-604f8c277a5f"
   },
   "outputs": [
    {
     "name": "stderr",
     "output_type": "stream",
     "text": [
      "[nltk_data] Downloading package vader_lexicon to\n",
      "[nltk_data]     C:\\Users\\lenovo\\AppData\\Roaming\\nltk_data...\n",
      "[nltk_data]   Package vader_lexicon is already up-to-date!\n"
     ]
    },
    {
     "data": {
      "text/plain": [
       "True"
      ]
     },
     "execution_count": 28,
     "metadata": {},
     "output_type": "execute_result"
    }
   ],
   "source": [
    "nltk.download('vader_lexicon')"
   ]
  },
  {
   "cell_type": "code",
   "execution_count": 29,
   "metadata": {
    "id": "S6QqKTVxxWmK"
   },
   "outputs": [],
   "source": [
    "sid = SentimentIntensityAnalyzer()"
   ]
  },
  {
   "cell_type": "code",
   "execution_count": 30,
   "metadata": {
    "id": "l7Ou_E2txWmL"
   },
   "outputs": [],
   "source": [
    "df['Score'] = df['clean_tweets'].apply(lambda x: sid.polarity_scores(x))"
   ]
  },
  {
   "cell_type": "code",
   "execution_count": 31,
   "metadata": {
    "id": "E9ZPjB--xWmL"
   },
   "outputs": [],
   "source": [
    "df['neg'] = df['Score'].apply(lambda i: i['neg'])\n",
    "df['pos'] = df['Score'].apply(lambda i: i['pos'])"
   ]
  },
  {
   "cell_type": "code",
   "execution_count": 32,
   "metadata": {
    "id": "03lycrN0xWmM"
   },
   "outputs": [],
   "source": [
    "# positive == negative -> neutral\n",
    "# positive > negative -> positive\n",
    "# positive < negative -> negative\n",
    "\n",
    "df['label'] = df['Score'].apply(lambda x: 'neutral' if (x['pos']==x['neg']) else ('positive' if x['pos']>x['neg']  else 'negative'))"
   ]
  },
  {
   "cell_type": "code",
   "execution_count": 33,
   "metadata": {
    "colab": {
     "base_uri": "https://localhost:8080/",
     "height": 296
    },
    "id": "I_Apf8-9xWmM",
    "outputId": "81f30a6d-93af-45c5-d9b2-cfd9d6d1b690"
   },
   "outputs": [
    {
     "data": {
      "text/plain": [
       "<matplotlib.axes._subplots.AxesSubplot at 0x20b64d93f28>"
      ]
     },
     "execution_count": 33,
     "metadata": {},
     "output_type": "execute_result"
    },
    {
     "data": {
      "image/png": "[encoded data removed]",
      "text/plain": [
       "<Figure size 432x288 with 1 Axes>"
      ]
     },
     "metadata": {
      "needs_background": "light"
     },
     "output_type": "display_data"
    }
   ],
   "source": [
    "sns.countplot(df['label'])"
   ]
  },
  {
   "cell_type": "code",
   "execution_count": 34,
   "metadata": {
    "colab": {
     "base_uri": "https://localhost:8080/",
     "height": 772
    },
    "id": "M5s6ahMVxWmN",
    "outputId": "e3b8ef01-7859-4ec2-de90-533a85d4f3de"
   },
   "outputs": [
    {
     "data": {
      "text/html": [
       "<div>\n",
       "<style scoped>\n",
       "    .dataframe tbody tr th:only-of-type {\n",
       "        vertical-align: middle;\n",
       "    }\n",
       "\n",
       "    .dataframe tbody tr th {\n",
       "        vertical-align: top;\n",
       "    }\n",
       "\n",
       "    .dataframe thead th {\n",
       "        text-align: right;\n",
       "    }\n",
       "</style>\n",
       "<table border=\"1\" class=\"dataframe\">\n",
       "  <thead>\n",
       "    <tr style=\"text-align: right;\">\n",
       "      <th></th>\n",
       "      <th>0</th>\n",
       "      <th>clean_tweets</th>\n",
       "      <th>Score</th>\n",
       "      <th>neg</th>\n",
       "      <th>pos</th>\n",
       "      <th>label</th>\n",
       "    </tr>\n",
       "  </thead>\n",
       "  <tbody>\n",
       "    <tr>\n",
       "      <th>0</th>\n",
       "      <td>Beed: kovida Center bombabomba water; Positive...</td>\n",
       "      <td>beed kovida center bombabomba water positive c...</td>\n",
       "      <td>{'neg': 0.0, 'neu': 0.714, 'pos': 0.286, 'comp...</td>\n",
       "      <td>0.00</td>\n",
       "      <td>0.29</td>\n",
       "      <td>positive</td>\n",
       "    </tr>\n",
       "    <tr>\n",
       "      <th>1</th>\n",
       "      <td>VIDEO: Gulabrao Patil | Koronakalata not right...</td>\n",
       "      <td>video gulabrao patil koronakalata right khadse...</td>\n",
       "      <td>{'neg': 0.0, 'neu': 1.0, 'pos': 0.0, 'compound...</td>\n",
       "      <td>0.00</td>\n",
       "      <td>0.00</td>\n",
       "      <td>neutral</td>\n",
       "    </tr>\n",
       "    <tr>\n",
       "      <th>2</th>\n",
       "      <td>Corona: Corona, but the new strain of origin a...</td>\n",
       "      <td>corona corona new strain origin amaravatituna ...</td>\n",
       "      <td>{'neg': 0.13, 'neu': 0.87, 'pos': 0.0, 'compou...</td>\n",
       "      <td>0.13</td>\n",
       "      <td>0.00</td>\n",
       "      <td>negative</td>\n",
       "    </tr>\n",
       "    <tr>\n",
       "      <th>3</th>\n",
       "      <td>Corona Vaccine Update: US expert said, kovida ...</td>\n",
       "      <td>corona vaccine update us expert said kovida co...</td>\n",
       "      <td>{'neg': 0.0, 'neu': 1.0, 'pos': 0.0, 'compound...</td>\n",
       "      <td>0.00</td>\n",
       "      <td>0.00</td>\n",
       "      <td>neutral</td>\n",
       "    </tr>\n",
       "    <tr>\n",
       "      <th>4</th>\n",
       "      <td>Hundreds of new Parliament's work in strict lo...</td>\n",
       "      <td>hundreds new parliaments work strict lockdown ...</td>\n",
       "      <td>{'neg': 0.0, 'neu': 1.0, 'pos': 0.0, 'compound...</td>\n",
       "      <td>0.00</td>\n",
       "      <td>0.00</td>\n",
       "      <td>neutral</td>\n",
       "    </tr>\n",
       "    <tr>\n",
       "      <th>...</th>\n",
       "      <td>...</td>\n",
       "      <td>...</td>\n",
       "      <td>...</td>\n",
       "      <td>...</td>\n",
       "      <td>...</td>\n",
       "      <td>...</td>\n",
       "    </tr>\n",
       "    <tr>\n",
       "      <th>19751</th>\n",
       "      <td>BVM BYM BBM BVCP RACS IRSA\\n\\nLatur joint sess...</td>\n",
       "      <td>bvm bym bbm bvcp racs irsalatur joint session ...</td>\n",
       "      <td>{'neg': 0.0, 'neu': 1.0, 'pos': 0.0, 'compound...</td>\n",
       "      <td>0.00</td>\n",
       "      <td>0.00</td>\n",
       "      <td>neutral</td>\n",
       "    </tr>\n",
       "    <tr>\n",
       "      <th>19752</th>\n",
       "      <td>Every day the court by the Akhil Bharatiya Vid...</td>\n",
       "      <td>every day court akhil bharatiya vidyarthi pari...</td>\n",
       "      <td>{'neg': 0.0, 'neu': 1.0, 'pos': 0.0, 'compound...</td>\n",
       "      <td>0.00</td>\n",
       "      <td>0.00</td>\n",
       "      <td>neutral</td>\n",
       "    </tr>\n",
       "    <tr>\n",
       "      <th>19753</th>\n",
       "      <td>BVM BYM BBM BVCP RACS IRSA\\n\\nPusad section 20...</td>\n",
       "      <td>bvm bym bbm bvcp racs irsapusad section sessio...</td>\n",
       "      <td>{'neg': 0.0, 'neu': 1.0, 'pos': 0.0, 'compound...</td>\n",
       "      <td>0.00</td>\n",
       "      <td>0.00</td>\n",
       "      <td>neutral</td>\n",
       "    </tr>\n",
       "    <tr>\n",
       "      <th>19754</th>\n",
       "      <td>All that All India Bharatiya Vidyarthi Parisha...</td>\n",
       "      <td>india bharatiya vidyarthi parishad format insp...</td>\n",
       "      <td>{'neg': 0.22, 'neu': 0.566, 'pos': 0.214, 'com...</td>\n",
       "      <td>0.22</td>\n",
       "      <td>0.21</td>\n",
       "      <td>negative</td>\n",
       "    </tr>\n",
       "    <tr>\n",
       "      <th>19755</th>\n",
       "      <td>BVM BYM BBM BVCP RACS IRSA\\n\\nPusad section 20...</td>\n",
       "      <td>bvm bym bbm bvcp racs irsapusad section sessio...</td>\n",
       "      <td>{'neg': 0.0, 'neu': 1.0, 'pos': 0.0, 'compound...</td>\n",
       "      <td>0.00</td>\n",
       "      <td>0.00</td>\n",
       "      <td>neutral</td>\n",
       "    </tr>\n",
       "  </tbody>\n",
       "</table>\n",
       "<p>19756 rows × 6 columns</p>\n",
       "</div>"
      ],
      "text/plain": [
       "                                                       0  \\\n",
       "0      Beed: kovida Center bombabomba water; Positive...   \n",
       "1      VIDEO: Gulabrao Patil | Koronakalata not right...   \n",
       "2      Corona: Corona, but the new strain of origin a...   \n",
       "3      Corona Vaccine Update: US expert said, kovida ...   \n",
       "4      Hundreds of new Parliament's work in strict lo...   \n",
       "...                                                  ...   \n",
       "19751  BVM BYM BBM BVCP RACS IRSA\\n\\nLatur joint sess...   \n",
       "19752  Every day the court by the Akhil Bharatiya Vid...   \n",
       "19753  BVM BYM BBM BVCP RACS IRSA\\n\\nPusad section 20...   \n",
       "19754  All that All India Bharatiya Vidyarthi Parisha...   \n",
       "19755  BVM BYM BBM BVCP RACS IRSA\\n\\nPusad section 20...   \n",
       "\n",
       "                                            clean_tweets  \\\n",
       "0      beed kovida center bombabomba water positive c...   \n",
       "1      video gulabrao patil koronakalata right khadse...   \n",
       "2      corona corona new strain origin amaravatituna ...   \n",
       "3      corona vaccine update us expert said kovida co...   \n",
       "4      hundreds new parliaments work strict lockdown ...   \n",
       "...                                                  ...   \n",
       "19751  bvm bym bbm bvcp racs irsalatur joint session ...   \n",
       "19752  every day court akhil bharatiya vidyarthi pari...   \n",
       "19753  bvm bym bbm bvcp racs irsapusad section sessio...   \n",
       "19754  india bharatiya vidyarthi parishad format insp...   \n",
       "19755  bvm bym bbm bvcp racs irsapusad section sessio...   \n",
       "\n",
       "                                                   Score  neg  pos     label  \n",
       "0      {'neg': 0.0, 'neu': 0.714, 'pos': 0.286, 'comp... 0.00 0.29  positive  \n",
       "1      {'neg': 0.0, 'neu': 1.0, 'pos': 0.0, 'compound... 0.00 0.00   neutral  \n",
       "2      {'neg': 0.13, 'neu': 0.87, 'pos': 0.0, 'compou... 0.13 0.00  negative  \n",
       "3      {'neg': 0.0, 'neu': 1.0, 'pos': 0.0, 'compound... 0.00 0.00   neutral  \n",
       "4      {'neg': 0.0, 'neu': 1.0, 'pos': 0.0, 'compound... 0.00 0.00   neutral  \n",
       "...                                                  ...  ...  ...       ...  \n",
       "19751  {'neg': 0.0, 'neu': 1.0, 'pos': 0.0, 'compound... 0.00 0.00   neutral  \n",
       "19752  {'neg': 0.0, 'neu': 1.0, 'pos': 0.0, 'compound... 0.00 0.00   neutral  \n",
       "19753  {'neg': 0.0, 'neu': 1.0, 'pos': 0.0, 'compound... 0.00 0.00   neutral  \n",
       "19754  {'neg': 0.22, 'neu': 0.566, 'pos': 0.214, 'com... 0.22 0.21  negative  \n",
       "19755  {'neg': 0.0, 'neu': 1.0, 'pos': 0.0, 'compound... 0.00 0.00   neutral  \n",
       "\n",
       "[19756 rows x 6 columns]"
      ]
     },
     "execution_count": 34,
     "metadata": {},
     "output_type": "execute_result"
    }
   ],
   "source": [
    "df"
   ]
  },
  {
   "cell_type": "code",
   "execution_count": 35,
   "metadata": {
    "colab": {
     "base_uri": "https://localhost:8080/"
    },
    "id": "3T9yifj8wRtx",
    "outputId": "b227dfea-2925-4776-e755-f144e46f0231"
   },
   "outputs": [
    {
     "data": {
      "text/plain": [
       "0        beed kovida center bombabomba water positive c...\n",
       "1        video gulabrao patil koronakalata right khadse...\n",
       "2        corona corona new strain origin amaravatituna ...\n",
       "3        corona vaccine update us expert said kovida co...\n",
       "4        hundreds new parliaments work strict lockdown ...\n",
       "                               ...                        \n",
       "19751    bvm bym bbm bvcp racs irsalatur joint session ...\n",
       "19752    every day court akhil bharatiya vidyarthi pari...\n",
       "19753    bvm bym bbm bvcp racs irsapusad section sessio...\n",
       "19754    india bharatiya vidyarthi parishad format insp...\n",
       "19755    bvm bym bbm bvcp racs irsapusad section sessio...\n",
       "Name: clean_tweets, Length: 19756, dtype: object"
      ]
     },
     "execution_count": 35,
     "metadata": {},
     "output_type": "execute_result"
    }
   ],
   "source": [
    "df['clean_tweets']"
   ]
  },
  {
   "cell_type": "code",
   "execution_count": 36,
   "metadata": {
    "id": "QONopJOAJpI4"
   },
   "outputs": [],
   "source": [
    "from sklearn.model_selection import train_test_split\n",
    "from sklearn.svm import LinearSVC\n",
    "from sklearn.metrics import accuracy_score,classification_report,confusion_matrix\n",
    "from sklearn.feature_extraction.text import TfidfVectorizer"
   ]
  },
  {
   "cell_type": "code",
   "execution_count": 37,
   "metadata": {
    "colab": {
     "base_uri": "https://localhost:8080/"
    },
    "id": "bOSwyaYgJ6Gh",
    "outputId": "cb6eced3-2aa2-450e-c8a4-70fe2a31f7d6"
   },
   "outputs": [
    {
     "name": "stdout",
     "output_type": "stream",
     "text": [
      "shape of x (19756, 13032)\n",
      "              precision    recall  f1-score   support\n",
      "\n",
      "    negative       0.98      0.96      0.97      1003\n",
      "     neutral       0.96      0.99      0.97      1601\n",
      "    positive       0.99      0.96      0.97      1348\n",
      "\n",
      "    accuracy                           0.97      3952\n",
      "   macro avg       0.97      0.97      0.97      3952\n",
      "weighted avg       0.97      0.97      0.97      3952\n",
      "\n"
     ]
    }
   ],
   "source": [
    "X=df['clean_tweets']\n",
    "y=df['label']\n",
    "tfidf=TfidfVectorizer()\n",
    "X=tfidf.fit_transform(X)\n",
    "X_train,X_test,y_train,y_test=train_test_split(X,y,test_size=0.2,random_state=0,stratify=y)\n",
    "print('shape of x',X.shape)\n",
    "clf=LinearSVC()\n",
    "clf.fit(X_train,y_train)\n",
    "y_pred=clf.predict(X_test)\n",
    "\n",
    "print(classification_report(y_test,y_pred))"
   ]
  },
  {
   "cell_type": "code",
   "execution_count": 38,
   "metadata": {
    "colab": {
     "base_uri": "https://localhost:8080/"
    },
    "id": "ZHlQhBycKMgT",
    "outputId": "ace2eb65-ddb0-4739-dfa1-c6e255c5b6a4"
   },
   "outputs": [
    {
     "data": {
      "text/plain": [
       "0.9762145748987854"
      ]
     },
     "execution_count": 38,
     "metadata": {},
     "output_type": "execute_result"
    }
   ],
   "source": [
    "rf = RandomForestClassifier()\n",
    "rf.fit(X_train,y_train)\n",
    "predict=rf.predict(X_test)\n",
    "accuracy_score(y_test,predict)\n"
   ]
  },
  {
   "cell_type": "code",
   "execution_count": 39,
   "metadata": {
    "colab": {
     "base_uri": "https://localhost:8080/"
    },
    "id": "Jmd6C_-uLoWh",
    "outputId": "18f93bd5-a55c-484d-d1e6-1bc10d9e651d"
   },
   "outputs": [
    {
     "data": {
      "text/plain": [
       "0.9777327935222672"
      ]
     },
     "execution_count": 39,
     "metadata": {},
     "output_type": "execute_result"
    }
   ],
   "source": [
    "dt = DecisionTreeClassifier()\n",
    "dt.fit(X_train,y_train)\n",
    "predict=dt.predict(X_test)\n",
    "accuracy_score(y_test,predict)"
   ]
  },
  {
   "cell_type": "code",
   "execution_count": 40,
   "metadata": {
    "colab": {
     "base_uri": "https://localhost:8080/"
    },
    "id": "rPv6JNCwNOl0",
    "outputId": "5d52a0e2-e2f3-4d3b-a6bb-b168dd3de854"
   },
   "outputs": [
    {
     "name": "stderr",
     "output_type": "stream",
     "text": [
      "C:\\Users\\lenovo\\AppData\\Roaming\\Python\\Python37\\site-packages\\sklearn\\linear_model\\_logistic.py:764: ConvergenceWarning: lbfgs failed to converge (status=1):\n",
      "STOP: TOTAL NO. of ITERATIONS REACHED LIMIT.\n",
      "\n",
      "Increase the number of iterations (max_iter) or scale the data as shown in:\n",
      "    https://scikit-learn.org/stable/modules/preprocessing.html\n",
      "Please also refer to the documentation for alternative solver options:\n",
      "    https://scikit-learn.org/stable/modules/linear_model.html#logistic-regression\n",
      "  extra_warning_msg=_LOGISTIC_SOLVER_CONVERGENCE_MSG)\n"
     ]
    },
    {
     "data": {
      "text/plain": [
       "array([[ 874,  107,   22],\n",
       "       [   6, 1585,   10],\n",
       "       [  22,   99, 1227]], dtype=int64)"
      ]
     },
     "execution_count": 40,
     "metadata": {},
     "output_type": "execute_result"
    }
   ],
   "source": [
    "\n",
    "from sklearn.linear_model import LogisticRegression\n",
    "logmodel = LogisticRegression(random_state=400 )\n",
    "logmodel.fit(X_train,y_train)\n",
    "log_predictions = logmodel.predict(X_test)\n",
    "from sklearn.metrics import confusion_matrix,f1_score\n",
    "confusion_matrix(y_test,log_predictions)"
   ]
  },
  {
   "cell_type": "code",
   "execution_count": 42,
   "metadata": {
    "colab": {
     "base_uri": "https://localhost:8080/"
    },
    "id": "s6RvRaNdOfzQ",
    "outputId": "f7bd3d83-61c8-48c3-b32d-fe3761960228"
   },
   "outputs": [
    {
     "data": {
      "text/plain": [
       "97.77327935222672"
      ]
     },
     "execution_count": 42,
     "metadata": {},
     "output_type": "execute_result"
    }
   ],
   "source": [
    "from sklearn.metrics import accuracy_score\n",
    "accuracy_score(y_test,predict)*100"
   ]
  }
 ],
 "metadata": {
  "colab": {
   "collapsed_sections": [],
   "name": "Tweet_sentiment_predication2.ipynb",
   "provenance": []
  },
  "kernelspec": {
   "display_name": "Python 3",
   "language": "python",
   "name": "python3"
  },
  "language_info": {
   "codemirror_mode": {
    "name": "ipython",
    "version": 3
   },
   "file_extension": ".py",
   "mimetype": "text/x-python",
   "name": "python",
   "nbconvert_exporter": "python",
   "pygments_lexer": "ipython3",
   "version": "3.7.1"
  }
 },
 "nbformat": 4,
 "nbformat_minor": 1
}
