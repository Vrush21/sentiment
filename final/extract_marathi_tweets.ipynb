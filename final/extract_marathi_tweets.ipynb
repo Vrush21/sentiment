{
 "cells": [
  {
   "cell_type": "code",
   "execution_count": 1,
   "metadata": {
    "executionInfo": {
     "elapsed": 2458,
     "status": "ok",
     "timestamp": 1619619463436,
     "user": {
      "displayName": "5techG Team",
      "photoUrl": "https://lh3.googleusercontent.com/a-/AOh14GjEGBiotKtdJZVnzLz3VJ3J3cfiEM3P-jfDq56JBA=s64",
      "userId": "15329722049485740795"
     },
     "user_tz": -330
    },
    "id": "bwNpnOS1MPf0"
   },
   "outputs": [],
   "source": [
    "import requests\n",
    "import bs4\n",
    "from bs4 import BeautifulSoup\n",
    "from requests_oauthlib import OAuth1\n",
    "import pandas as pd"
   ]
  },
  {
   "cell_type": "code",
   "execution_count": 2,
   "metadata": {
    "executionInfo": {
     "elapsed": 1788,
     "status": "ok",
     "timestamp": 1619619471548,
     "user": {
      "displayName": "5techG Team",
      "photoUrl": "https://lh3.googleusercontent.com/a-/AOh14GjEGBiotKtdJZVnzLz3VJ3J3cfiEM3P-jfDq56JBA=s64",
      "userId": "15329722049485740795"
     },
     "user_tz": -330
    },
    "id": "vO-FneIVMPhQ"
   },
   "outputs": [],
   "source": [
    "consumer_key = '7dzK7q6IrWCcq5Kjo3q5YDrGJ'\n",
    "consumer_secret = 'd52zgvIjSq53L4TIltmpbN4iE0vZtrZAVkdz0Fw2YHdlOqwMS7'\n",
    "access_token = '948413893038125056-u5qBXf9dtb4aD4MJKewEIk75N7Tf40B'\n",
    "access_token_secret= '6pdoGlxNDFgHvB3Y1tTJVTTD3UXddCSf4ABBZVMh1xPxC' \n",
    "    \n",
    "auth_params = {\n",
    "    'app_key':'7dzK7q6IrWCcq5Kjo3q5YDrGJ',\n",
    "    'app_secret':'d52zgvIjSq53L4TIltmpbN4iE0vZtrZAVkdz0Fw2YHdlOqwMS7',\n",
    "    'oauth_token':'948413893038125056-u5qBXf9dtb4aD4MJKewEIk75N7Tf40B',\n",
    "    'oauth_token_secret':'6pdoGlxNDFgHvB3Y1tTJVTTD3UXddCSf4ABBZVMh1xPxC' \n",
    "}\n",
    "\n",
    "# Creating an OAuth Client connection\n",
    "auth = OAuth1 (\n",
    "    auth_params['app_key'],\n",
    "    auth_params['app_secret'],\n",
    "    auth_params['oauth_token'],\n",
    "    auth_params['oauth_token_secret']\n",
    ")"
   ]
  },
  {
   "cell_type": "code",
   "execution_count": 3,
   "metadata": {
    "colab": {
     "base_uri": "https://localhost:8080/"
    },
    "executionInfo": {
     "elapsed": 30233,
     "status": "ok",
     "timestamp": 1619619505913,
     "user": {
      "displayName": "5techG Team",
      "photoUrl": "https://lh3.googleusercontent.com/a-/AOh14GjEGBiotKtdJZVnzLz3VJ3J3cfiEM3P-jfDq56JBA=s64",
      "userId": "15329722049485740795"
     },
     "user_tz": -330
    },
    "id": "sRSLrUWNMPha",
    "outputId": "c609119f-1b1b-480b-84fc-943d9eababed"
   },
   "outputs": [
    {
     "name": "stdout",
     "output_type": "stream",
     "text": [
      "4945\n"
     ]
    }
   ],
   "source": [
    "# url according to twitter API\n",
    "url_rest = \"https://api.twitter.com/1.1/search/tweets.json\"\n",
    "marathi_tweet = []\n",
    "tags=['corona','covid','india','कोरोना','coronavirus','कोविड','virus','who','UddhavThackeray','vaccine', \"mumbai\", \"Pune\", \"Nagpur\", 'लसीकरण', 'लस', 'corona','covid','india','कोरोना','coronavirus','कोविड','virus','who','UddhavThackeray','vaccine', \"mumbai\", \"Pune\", \"Nagpur\", 'लसीकरण', 'लस', 'पुणे', 'सांगली', 'मुंबई', 'दिल्ली' , 'नागपूर', 'औरंगाबाद', 'कोल्हापूर', 'संकट' , 'बेरोजगारी' , 'महामारी' , 'आर्थिक मंदी' , 'मंदी' , 'quarantine' , 'हॉस्पिटल' , 'hospital' , 'SARS' , 'मृत्यू' , 'सातारा' , 'दवाखाना' , 'इंजेकशन' , 'टिकाकरण' , 'शाळा' , 'महाविद्यालयं' , 'school' , 'शिक्षक' , 'विद्यार्थी']\n",
    "\n",
    "for i in tags:\n",
    "    # getting rid of retweets in the extraction results and filtering all replies to the tweet often uncessary for the analysis\n",
    "    q = '%'+ i +'% -filter:retweets -filter:replies' # Twitter handle of Amazon India\n",
    "\n",
    "    # count : no of tweets to be retrieved per one call and parameters according to twitter API\n",
    "    params = {'q': q, 'count':100, 'lang': 'mr',  'result_type': 'recent'}\n",
    "    results = requests.get(url_rest, params=params, auth=auth)\n",
    "\n",
    "    tweets = results.json()\n",
    "\n",
    "    messages = [BeautifulSoup(tweet['text'], 'html5lib').get_text() for tweet in tweets['statuses']]\n",
    "    marathi_tweet = marathi_tweet+messages\n",
    "\n",
    "print(len(marathi_tweet))"
   ]
  },
  {
   "cell_type": "code",
   "execution_count": 4,
   "metadata": {
    "executionInfo": {
     "elapsed": 20646,
     "status": "ok",
     "timestamp": 1619619505914,
     "user": {
      "displayName": "5techG Team",
      "photoUrl": "https://lh3.googleusercontent.com/a-/AOh14GjEGBiotKtdJZVnzLz3VJ3J3cfiEM3P-jfDq56JBA=s64",
      "userId": "15329722049485740795"
     },
     "user_tz": -330
    },
    "id": "SoRjnSI-MPh5"
   },
   "outputs": [],
   "source": [
    "tweets = pd.DataFrame(marathi_tweet)"
   ]
  },
  {
   "cell_type": "code",
   "execution_count": 5,
   "metadata": {
    "executionInfo": {
     "elapsed": 1640,
     "status": "ok",
     "timestamp": 1619619550669,
     "user": {
      "displayName": "5techG Team",
      "photoUrl": "https://lh3.googleusercontent.com/a-/AOh14GjEGBiotKtdJZVnzLz3VJ3J3cfiEM3P-jfDq56JBA=s64",
      "userId": "15329722049485740795"
     },
     "user_tz": -330
    },
    "id": "ZdkGNgnKMPiB"
   },
   "outputs": [],
   "source": [
    "tweets.to_csv('marathi_tweets.csv',index=False)"
   ]
  }
 ],
 "metadata": {
  "colab": {
   "collapsed_sections": [],
   "name": "extract_marathi_tweets.ipynb",
   "provenance": []
  },
  "kernelspec": {
   "display_name": "Python 3",
   "language": "python",
   "name": "python3"
  },
  "language_info": {
   "codemirror_mode": {
    "name": "ipython",
    "version": 3
   },
   "file_extension": ".py",
   "mimetype": "text/x-python",
   "name": "python",
   "nbconvert_exporter": "python",
   "pygments_lexer": "ipython3",
   "version": "3.7.1"
  }
 },
 "nbformat": 4,
 "nbformat_minor": 1
}
